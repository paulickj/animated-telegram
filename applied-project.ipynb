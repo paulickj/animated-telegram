{
 "cells": [
  {
   "cell_type": "code",
   "execution_count": 1,
   "id": "a39cdb30-62a0-41ce-91ee-7ca048c7cc1a",
   "metadata": {},
   "outputs": [],
   "source": [
    "#%pip uninstall importlib_metadata -y\n",
    "#%pip install importlib_metadata --force-reinstall"
   ]
  },
  {
   "cell_type": "code",
   "execution_count": 2,
   "id": "bdf8dc55-b08b-4d6e-873d-ebab85abe1d1",
   "metadata": {},
   "outputs": [],
   "source": [
    "#%pip install keras"
   ]
  },
  {
   "cell_type": "code",
   "execution_count": 3,
   "id": "2acfff8a-d8bb-483c-98a7-9a27a95bfc1f",
   "metadata": {},
   "outputs": [],
   "source": [
    "#%env SKLEARN_ALLOW_DEPRECATED_SKLEARN_PACKAGE_INSTALL=True"
   ]
  },
  {
   "cell_type": "code",
   "execution_count": 4,
   "id": "ee9110d1-6d2c-4fef-80e2-dea591524536",
   "metadata": {},
   "outputs": [],
   "source": [
    "#%pip install --force-reinstall -v \"wfdb==1.3.9\""
   ]
  },
  {
   "cell_type": "code",
   "execution_count": 5,
   "id": "96120f74-960a-41c7-aa80-90dd6ec997fa",
   "metadata": {},
   "outputs": [],
   "source": [
    "#%pip install --force-reinstall -v \"wfdb==4.1.2\""
   ]
  },
  {
   "cell_type": "code",
   "execution_count": 6,
   "id": "e08ab7f5",
   "metadata": {},
   "outputs": [],
   "source": [
    "# %pip install wfdb\n",
    "# %pip install tqdm\n"
   ]
  },
  {
   "cell_type": "code",
   "execution_count": 7,
   "id": "64df1fbf-a915-4fce-bee5-7d818fc7f1ab",
   "metadata": {},
   "outputs": [],
   "source": [
    "import glob\n",
    "import os\n",
    "import pandas as pd\n",
    "import matplotlib.pyplot as plt \n",
    "import tensorflow as tf\n",
    "from sklearn.model_selection import train_test_split\n",
    "import wfdb\n",
    "import numpy as np\n",
    "from tqdm import tqdm"
   ]
  },
  {
   "cell_type": "markdown",
   "id": "34894de1-4196-4a52-8a62-68aa1614057a",
   "metadata": {},
   "source": [
    "1. Data Collection:\n",
    "·Datasets Used:\n",
    "·CHF-RR Dataset: Congestive heart failure RR interval database. It comprised patients with heart failure. This dataset contained records of 29 patients from CHF201 to CHF229.\n",
    "·NSR-RR Dataset: Normal sinus rhythm RR interval database. This dataset had 54 normal sinus rhythm recordings ranging in age from 28 to 76. Records from NSR001 through NSR054 of 54 patients were available.\n",
    "·Both datasets were provided by PhysioBank.\n",
    "2. Data Preprocessing:\n",
    "·Conversion: Datasets were converted to CSV files or directly imported into Python.\n",
    "·Library Used: The wfdblibrary was employed to read, write, and process WFDB signals and annotations. The library can be accessed at wfdb library.\n",
    "·Grouping Approach: Among various grouping methods for the TSC algorithm, intervals were chosen over whole series. Data was normalized and divided into intervals of 5sec, 20sec, 40sec, 60sec, and 80sec.\n",
    "·Data Formatting: Data was formatted into univariate UCR time series.\n",
    "3. Data Augmentation:\n",
    "·Data Augmentation Strategy: To combat issues of underfitting and overfitting, data augmentation was mentioned as a strategy. However, specific augmentation techniques were not detailed in the provided information."
   ]
  },
  {
   "cell_type": "markdown",
   "id": "5f3c6f9d-d664-4645-96bb-46b494887aff",
   "metadata": {
    "tags": []
   },
   "source": [
    "# Downloading Data"
   ]
  },
  {
   "cell_type": "code",
   "execution_count": 8,
   "id": "a8ad0c2a-cb7f-4439-82e5-de62f0e4b629",
   "metadata": {},
   "outputs": [
    {
     "data": {
      "text/plain": [
       "[['adfecgdb', 'Abdominal and Direct Fetal ECG Database'],\n",
       " ['aftdb', 'AF Termination Challenge Database'],\n",
       " ['ahadb', 'AHA Database [sample excluded record]'],\n",
       " ['aami-ec13', 'ANSI/AAMI EC13 Test Waveforms'],\n",
       " ['apnea-ecg', 'Apnea-ECG Database'],\n",
       " ['chfdb', 'BIDMC Congestive Heart Failure Database'],\n",
       " ['bidmc', 'BIDMC PPG and Respiration Dataset'],\n",
       " ['bpssrat', 'Blood Pressure in Salt-Sensitive Dahl Rats'],\n",
       " ['capslpdb', 'CAP Sleep Database'],\n",
       " ['crisdb', 'CAST RR Interval Sub-Study Database'],\n",
       " ['cves', 'Cerebral Vasoregulation in Elderly with Stroke'],\n",
       " ['challenge/2009/test-set-a', 'Challenge 2009 Test Set A'],\n",
       " ['challenge/2009/test-set-b', 'Challenge 2009 Test Set B'],\n",
       " ['challenge/2010/set-a', 'Challenge 2010 Training Set A'],\n",
       " ['challenge/2010/set-b', 'Challenge 2010 Test Set B'],\n",
       " ['challenge/2010/set-c', 'Challenge 2010 Test Set C'],\n",
       " ['challenge/2011/sim', 'Challenge 2011 Pilot Set'],\n",
       " ['challenge/2011/set-a', 'Challenge 2011 Training Set A'],\n",
       " ['challenge/2011/set-b', 'Challenge 2011 Test Set B'],\n",
       " ['challenge/2013/set-a', 'Challenge 2013 Training Set A'],\n",
       " ['challenge/2013/set-b', 'Challenge 2013 Test Set B'],\n",
       " ['challenge/2014/set-p2', 'Challenge 2014 Extended Training Set'],\n",
       " ['challenge/2014/set-p', 'Challenge 2014 Training Set'],\n",
       " ['challenge/2015/training', 'Challenge 2015 Training Set'],\n",
       " ['challenge/2016/training-a', 'Challenge 2016 Training Set A'],\n",
       " ['challenge/2016/training-b', 'Challenge 2016 Training Set B'],\n",
       " ['challenge/2016/training-c', 'Challenge 2016 Training Set C'],\n",
       " ['challenge/2016/training-d', 'Challenge 2016 Training Set D'],\n",
       " ['challenge/2016/training-e', 'Challenge 2016 Training Set E'],\n",
       " ['challenge/2016/training-f', 'Challenge 2016 Training Set F'],\n",
       " ['challenge/2017/training', 'Challenge 2017 Training Set'],\n",
       " ['challenge/2018/training', 'Challenge 2018 Training Set'],\n",
       " ['challenge/2018/test', 'Challenge 2018 Test Set'],\n",
       " ['charisdb', 'CHARIS database'],\n",
       " ['chbmit', 'CHB-MIT Scalp EEG Database'],\n",
       " ['cebsdb', 'Combined measurement of ECG, Breathing and Seismocardiograms'],\n",
       " ['culm', 'Complex Upper-Limb Movements'],\n",
       " ['chf2db', 'Congestive Heart Failure RR Interval Database'],\n",
       " ['ctu-uhb-ctgdb', 'CTU-CHB Intrapartum Cardiotocography Database'],\n",
       " ['cudb', 'CU Ventricular Tachyarrhythmia Database'],\n",
       " ['ecgdmmld',\n",
       "  'ECG Effects of Dofetilide, Moxifloxacin, Dofetilide+Mexiletine, Dofetilide+Lidocaine and Moxifloxacin+Diltiazem'],\n",
       " ['ecgcipa', 'CiPA ECG Validation Study'],\n",
       " ['ecgrdvq',\n",
       "  'ECG Effects of Ranolazine, Dofetilide, Verapamil, and Quinidine'],\n",
       " ['ecgiddb', 'ECG-ID Database'],\n",
       " ['eegmat', 'EEG During Mental Arithmetic Tasks'],\n",
       " ['eegmmidb', 'EEG Motor Movement/Imagery Dataset'],\n",
       " ['ltrsvp', 'EEG Signals from an RSVP Task'],\n",
       " ['erpbci', 'ERP-based Brain-Computer Interface recordings'],\n",
       " ['edb', 'European ST-T Database'],\n",
       " ['earh', 'Evoked Auditory Responses in Heading Impaired'],\n",
       " ['earndb', 'Evoked Auditory Responses in Normals'],\n",
       " ['emgdb', 'Examples of Electromyograms'],\n",
       " ['fantasia', 'Fantasia Database'],\n",
       " ['fecgsyndb', 'Fetal ECG Synthetic Database'],\n",
       " ['fpcgdb', 'Fetal PCG Database'],\n",
       " ['gaitdb', 'Gait in Aging and Disease Database'],\n",
       " ['gaitndd', 'Gait in Neurodegenerative Disease Database'],\n",
       " ['gait-maturation-db/data', 'Gait Maturation Database'],\n",
       " ['meditation/data', 'Heart Rate Oscillations during Meditation'],\n",
       " ['hbedb', 'Human Balance Evaluation Database'],\n",
       " ['ehgdb', 'Icelandic 16-electrode Electrohysterogram Database'],\n",
       " ['iafdb', 'Intracardiac Atrial Fibrillation Database'],\n",
       " ['ltafdb', 'Long Term AF Database'],\n",
       " ['ltstdb', 'Long Term ST Database'],\n",
       " ['mssvepdb', 'MAMEM SSVEP Database'],\n",
       " ['mghdb', 'MGH/MF Waveform Database'],\n",
       " ['mimicdb', 'MIMIC Database'],\n",
       " ['mimicdb/numerics', 'MIMIC Database Numerics'],\n",
       " ['mimic2cdb', 'MIMIC II Clinical Database Public Subset'],\n",
       " ['mimic2wdb/30', 'MIMIC II/III Waveform Database, part 0'],\n",
       " ['mimic2wdb/31', 'MIMIC II/III Waveform Database, part 1'],\n",
       " ['mimic2wdb/32', 'MIMIC II/III Waveform Database, part 2'],\n",
       " ['mimic2wdb/33', 'MIMIC II/III Waveform Database, part 3'],\n",
       " ['mimic2wdb/34', 'MIMIC II/III Waveform Database, part 4'],\n",
       " ['mimic2wdb/35', 'MIMIC II/III Waveform Database, part 5'],\n",
       " ['mimic2wdb/36', 'MIMIC II/III Waveform Database, part 6'],\n",
       " ['mimic2wdb/37', 'MIMIC II/III Waveform Database, part 7'],\n",
       " ['mimic2wdb/38', 'MIMIC II/III Waveform Database, part 8'],\n",
       " ['mimic2wdb/39', 'MIMIC II/III Waveform Database, part 9'],\n",
       " ['mimic2wdb/matched', 'MIMIC II Waveform Database Matched Subset'],\n",
       " ['mimic3wdb/matched', 'MIMIC III Waveform Database Matched Subset'],\n",
       " ['mitdb', 'MIT-BIH Arrhythmia Database'],\n",
       " ['pwave', 'MIT-BIH Arrhythmia Database P-Wave Annotations'],\n",
       " ['afdb', 'MIT-BIH Atrial Fibrillation Database'],\n",
       " ['cdb', 'MIT-BIH ECG Compression Test Database'],\n",
       " ['ltdb', 'MIT-BIH Long-Term ECG Database'],\n",
       " ['vfdb', 'MIT-BIH Malignant Ventricular Ectopy Database'],\n",
       " ['nstdb', 'MIT-BIH Noise Stress Test Database'],\n",
       " ['nsrdb', 'MIT-BIH Normal Sinus Rhythm Database'],\n",
       " ['excluded', '... [Recordings excluded from the NSR DB]'],\n",
       " ['slpdb', 'MIT-BIH Polysomnographic Database'],\n",
       " ['stdb', 'MIT-BIH ST Change Database'],\n",
       " ['svdb', 'MIT-BIH Supraventricular Arrhythmia Database'],\n",
       " ['mmgdb', 'MMG Database'],\n",
       " ['macecgdb', 'Motion Artifact Contaminated ECG Database'],\n",
       " ['motion-artifact', 'Motion Artifact Contaminated fNIRS and EEG Data'],\n",
       " ['noneeg', 'Non-EEG Dataset for Assessment of Neurological Status'],\n",
       " ['nifecgdb', 'Non-Invasive Fetal ECG Database'],\n",
       " ['nifeadb', 'Non-Invasive Fetal ECG Arrhythmia Database'],\n",
       " ['nsr2db', 'Normal Sinus Rhythm RR Interval Database'],\n",
       " ['ob1db', 'OB-1 Fetal ECG Database [sample record]'],\n",
       " ['afpdb', 'PAF Prediction Challenge Database'],\n",
       " ['osv', 'Pattern Analysis of Oxygen Saturation Variability'],\n",
       " ['prcp', 'Physiologic Response to Changes in Posture'],\n",
       " ['szdb', 'Post-Ictal Heart Rate Oscillations in Partial Epilepsy'],\n",
       " ['picsdb', 'Preterm Infant Cardio-Respiratory Signals Database'],\n",
       " ['ptbdb', 'PTB Diagnostic ECG Database'],\n",
       " ['qtdb', 'QT Database'],\n",
       " ['rvmh1', 'Response to Valsalva Maneuver in Humans'],\n",
       " ['sufhsdb', 'Shiraz University Fetal Heart Sounds Database'],\n",
       " ['simfpcgdb', 'Simulated Fetal Phonocardiograms'],\n",
       " ['sleepbrl', 'Sleep Bioradiolocation Database'],\n",
       " ['sleep-edfx', 'Sleep-EDF Database [Expanded]'],\n",
       " ['shhpsgdb', 'Sleep Heart Health Study PSG Database [sample record]'],\n",
       " ['shareedb',\n",
       "  'Smart Health for Assessing the Risk of Events via ECG Database'],\n",
       " ['mvtdb/data', 'Spontaneous Ventricular Tachyarrhythmia Database'],\n",
       " ['sgamp', 'Squid Giant Axon Membrane Potential'],\n",
       " ['incartdb', 'St Petersburg INCART 12-lead Arrhythmia Database'],\n",
       " ['staffiii', 'STAFF III Database'],\n",
       " ['drivedb', 'Stress Recognition in Automobile Drivers'],\n",
       " ['sddb', 'Sudden Cardiac Death Holter Database'],\n",
       " ['twadb', 'T-Wave Alternans Challenge Database'],\n",
       " ['taichidb', 'Tai Chi, Physiological Complexity, and Healthy Aging - Gait'],\n",
       " ['tpehgdb', 'Term-Preterm EHG Database'],\n",
       " ['tpehgt', 'Term-Preterm EHG DataSet with Tocogram (TPEHGT DS)'],\n",
       " ['ucddb', 'UCD Sleep Apnea Database'],\n",
       " ['unicaprop', 'UniCA ElectroTastegram Database (PROP)'],\n",
       " ['videopulse', 'Video Pulse Signals in Stationary and Motion Conditions'],\n",
       " ['voiced', 'VOice ICar fEDerico II Database'],\n",
       " ['wrist', 'Wrist PPG During Exercise'],\n",
       " ['mimic2db', 'MIMIC II Waveform DB, v2 [deprecated, use v3]'],\n",
       " ['mimic2db/numerics',\n",
       "  'MIMIC II Waveform DB, v2 Numerics [deprecated, use v3]'],\n",
       " ['sleep-edf', 'Sleep-EDF Database, v1 [deprecated, use sleep-edfx]']]"
      ]
     },
     "metadata": {},
     "output_type": "display_data"
    }
   ],
   "source": [
    "dbs = wfdb.get_dbs()\n",
    "display(dbs)"
   ]
  },
  {
   "cell_type": "code",
   "execution_count": 9,
   "id": "dd253c98-fbb4-4429-a3b9-40a5a0ba51c5",
   "metadata": {},
   "outputs": [],
   "source": [
    "def download(database):\n",
    "    cwd = os.getcwd()\n",
    "    dl_dir = os.path.join(cwd, database)\n",
    "    wfdb.dl_database(database, dl_dir=dl_dir)\n",
    "    display(os.listdir(dl_dir))"
   ]
  },
  {
   "cell_type": "code",
   "execution_count": 10,
   "id": "2d4d840e-cb65-4562-bde7-836c39367218",
   "metadata": {},
   "outputs": [],
   "source": [
    "# download('nsrdb')"
   ]
  },
  {
   "cell_type": "code",
   "execution_count": 11,
   "id": "6cb46f35-002f-4cd5-8107-d285432a0b48",
   "metadata": {},
   "outputs": [],
   "source": [
    "# download('chfdb')"
   ]
  },
  {
   "cell_type": "markdown",
   "id": "322fa21b-22be-45c8-8423-04c02630f824",
   "metadata": {},
   "source": [
    "# Converting Data"
   ]
  },
  {
   "cell_type": "code",
   "execution_count": 12,
   "id": "05160cff-72a3-4a28-9cb0-bbeec3f7cc8c",
   "metadata": {},
   "outputs": [],
   "source": [
    "def wfdb_to_dataframe(record):\n",
    "    #df = record.to_dataframe()\n",
    "    df = pd.DataFrame(record.p_signal, columns=record.sig_name)\n",
    "    return df\n",
    " \n",
    "def load_record(uri):\n",
    "    record = wfdb.rdrecord(uri)\n",
    "    return wfdb_to_dataframe(record)"
   ]
  },
  {
   "cell_type": "code",
   "execution_count": 13,
   "id": "eddd19b5-5bf9-4686-a4cb-59d4a4cc27a1",
   "metadata": {},
   "outputs": [
    {
     "data": {
      "image/png": "[encoded data removed]",
      "text/plain": [
       "<Figure size 640x480 with 1 Axes>"
      ]
     },
     "metadata": {},
     "output_type": "display_data"
    }
   ],
   "source": [
    "a = load_record('nsrdb/16265')\n",
    "plt.plot(a['ECG1'][:212])\n",
    "plt.show()"
   ]
  },
  {
   "cell_type": "code",
   "execution_count": 14,
   "id": "590fea20",
   "metadata": {},
   "outputs": [
    {
     "data": {
      "text/plain": [
       "[<matplotlib.lines.Line2D at 0x1f9e2983110>]"
      ]
     },
     "execution_count": 14,
     "metadata": {},
     "output_type": "execute_result"
    },
    {
     "data": {
      "image/png": "[encoded data removed]",
      "text/plain": [
       "<Figure size 640x480 with 1 Axes>"
      ]
     },
     "metadata": {},
     "output_type": "display_data"
    }
   ],
   "source": [
    "plt.plot(a['ECG2'][:212])"
   ]
  },
  {
   "cell_type": "code",
   "execution_count": 15,
   "id": "7bca8839",
   "metadata": {},
   "outputs": [
    {
     "data": {
      "text/html": [
       "<div>\n",
       "<style scoped>\n",
       "    .dataframe tbody tr th:only-of-type {\n",
       "        vertical-align: middle;\n",
       "    }\n",
       "\n",
       "    .dataframe tbody tr th {\n",
       "        vertical-align: top;\n",
       "    }\n",
       "\n",
       "    .dataframe thead th {\n",
       "        text-align: right;\n",
       "    }\n",
       "</style>\n",
       "<table border=\"1\" class=\"dataframe\">\n",
       "  <thead>\n",
       "    <tr style=\"text-align: right;\">\n",
       "      <th></th>\n",
       "      <th>ECG1</th>\n",
       "      <th>ECG2</th>\n",
       "    </tr>\n",
       "  </thead>\n",
       "  <tbody>\n",
       "    <tr>\n",
       "      <th>0</th>\n",
       "      <td>-0.320</td>\n",
       "      <td>-0.305</td>\n",
       "    </tr>\n",
       "    <tr>\n",
       "      <th>1</th>\n",
       "      <td>-0.305</td>\n",
       "      <td>-0.285</td>\n",
       "    </tr>\n",
       "    <tr>\n",
       "      <th>2</th>\n",
       "      <td>-0.295</td>\n",
       "      <td>-0.260</td>\n",
       "    </tr>\n",
       "    <tr>\n",
       "      <th>3</th>\n",
       "      <td>-0.320</td>\n",
       "      <td>-0.230</td>\n",
       "    </tr>\n",
       "    <tr>\n",
       "      <th>4</th>\n",
       "      <td>-0.320</td>\n",
       "      <td>-0.215</td>\n",
       "    </tr>\n",
       "    <tr>\n",
       "      <th>...</th>\n",
       "      <td>...</td>\n",
       "      <td>...</td>\n",
       "    </tr>\n",
       "    <tr>\n",
       "      <th>17998843</th>\n",
       "      <td>-0.200</td>\n",
       "      <td>-0.345</td>\n",
       "    </tr>\n",
       "    <tr>\n",
       "      <th>17998844</th>\n",
       "      <td>-0.190</td>\n",
       "      <td>-0.325</td>\n",
       "    </tr>\n",
       "    <tr>\n",
       "      <th>17998845</th>\n",
       "      <td>-0.165</td>\n",
       "      <td>-0.300</td>\n",
       "    </tr>\n",
       "    <tr>\n",
       "      <th>17998846</th>\n",
       "      <td>-0.165</td>\n",
       "      <td>-0.295</td>\n",
       "    </tr>\n",
       "    <tr>\n",
       "      <th>17998847</th>\n",
       "      <td>-0.170</td>\n",
       "      <td>-0.295</td>\n",
       "    </tr>\n",
       "  </tbody>\n",
       "</table>\n",
       "<p>17998848 rows × 2 columns</p>\n",
       "</div>"
      ],
      "text/plain": [
       "           ECG1   ECG2\n",
       "0        -0.320 -0.305\n",
       "1        -0.305 -0.285\n",
       "2        -0.295 -0.260\n",
       "3        -0.320 -0.230\n",
       "4        -0.320 -0.215\n",
       "...         ...    ...\n",
       "17998843 -0.200 -0.345\n",
       "17998844 -0.190 -0.325\n",
       "17998845 -0.165 -0.300\n",
       "17998846 -0.165 -0.295\n",
       "17998847 -0.170 -0.295\n",
       "\n",
       "[17998848 rows x 2 columns]"
      ]
     },
     "execution_count": 15,
     "metadata": {},
     "output_type": "execute_result"
    }
   ],
   "source": [
    "load_record('chfdb/chf03')"
   ]
  },
  {
   "cell_type": "code",
   "execution_count": 16,
   "id": "6f3f5eb4",
   "metadata": {},
   "outputs": [
    {
     "data": {
      "text/plain": [
       "18"
      ]
     },
     "execution_count": 16,
     "metadata": {},
     "output_type": "execute_result"
    }
   ],
   "source": [
    "nsrdb_list = glob.glob(\"nsrdb/*.hea\")\n",
    "len(nsrdb_list)"
   ]
  },
  {
   "cell_type": "code",
   "execution_count": 17,
   "id": "de365277",
   "metadata": {},
   "outputs": [
    {
     "data": {
      "text/plain": [
       "15"
      ]
     },
     "execution_count": 17,
     "metadata": {},
     "output_type": "execute_result"
    }
   ],
   "source": [
    "chfdb_list = glob.glob(\"chfdb/*.hea\")\n",
    "len(chfdb_list)"
   ]
  },
  {
   "cell_type": "code",
   "execution_count": 18,
   "id": "4e709294",
   "metadata": {},
   "outputs": [],
   "source": [
    "def create_db(file_list, record_class, clip_duration=60, sampling_rate=250):\n",
    "    clip_len = sampling_rate * clip_duration\n",
    "    num_channels = len(load_record(file_list[0].removesuffix('.hea')).columns)\n",
    "    total_clips = sum(len(load_record(file_path.removesuffix('.hea'))) // clip_len for file_path in file_list)\n",
    "\n",
    "    # Preallocate a NumPy array for all clips\n",
    "    all_clips = np.empty((total_clips, clip_len * num_channels + 1))  # +1 for the class label\n",
    "\n",
    "    clip_index = 0\n",
    "    for file_path in file_list:\n",
    "        record_df = load_record(file_path.removesuffix('.hea'))\n",
    "        num_clips = len(record_df) // clip_len\n",
    "\n",
    "        for i in range(num_clips):\n",
    "            clip = record_df.iloc[i * clip_len : (i + 1) * clip_len].values.flatten()\n",
    "            all_clips[clip_index, :-1] = clip  # Fill all but last column with clip data\n",
    "            all_clips[clip_index, -1] = record_class  # Last column is the class label\n",
    "            clip_index += 1\n",
    "\n",
    "    # Convert the NumPy array directly to a DataFrame\n",
    "    column_names = [f't{i}' for i in range(clip_len * num_channels)] + ['class']\n",
    "    df_clips = pd.DataFrame(all_clips, columns=column_names)\n",
    "\n",
    "    return df_clips\n"
   ]
  },
  {
   "cell_type": "code",
   "execution_count": 19,
   "id": "b0c3b6a6",
   "metadata": {},
   "outputs": [],
   "source": [
    "record_len = 190_800"
   ]
  },
  {
   "cell_type": "code",
   "execution_count": 20,
   "id": "c8e04fd5",
   "metadata": {},
   "outputs": [
    {
     "data": {
      "text/plain": [
       "(13432, 30001)"
      ]
     },
     "execution_count": 20,
     "metadata": {},
     "output_type": "execute_result"
    }
   ],
   "source": [
    "nsrdb_df = create_db(nsrdb_list, 0)\n",
    "nsrdb_df.shape"
   ]
  },
  {
   "cell_type": "code",
   "execution_count": 21,
   "id": "44e0550f",
   "metadata": {},
   "outputs": [
    {
     "data": {
      "text/plain": [
       "(17922, 30001)"
      ]
     },
     "execution_count": 21,
     "metadata": {},
     "output_type": "execute_result"
    }
   ],
   "source": [
    "chfdb_df = create_db(chfdb_list, 1)\n",
    "chfdb_df.shape"
   ]
  },
  {
   "cell_type": "code",
   "execution_count": 22,
   "id": "326d8ae4-94c7-4e3e-811f-a1b7f3fbabc2",
   "metadata": {},
   "outputs": [
    {
     "data": {
      "text/html": [
       "<div>\n",
       "<style scoped>\n",
       "    .dataframe tbody tr th:only-of-type {\n",
       "        vertical-align: middle;\n",
       "    }\n",
       "\n",
       "    .dataframe tbody tr th {\n",
       "        vertical-align: top;\n",
       "    }\n",
       "\n",
       "    .dataframe thead th {\n",
       "        text-align: right;\n",
       "    }\n",
       "</style>\n",
       "<table border=\"1\" class=\"dataframe\">\n",
       "  <thead>\n",
       "    <tr style=\"text-align: right;\">\n",
       "      <th></th>\n",
       "      <th>t0</th>\n",
       "      <th>t1</th>\n",
       "      <th>t2</th>\n",
       "      <th>t3</th>\n",
       "      <th>t4</th>\n",
       "      <th>t5</th>\n",
       "      <th>t6</th>\n",
       "      <th>t7</th>\n",
       "      <th>t8</th>\n",
       "      <th>t9</th>\n",
       "      <th>...</th>\n",
       "      <th>t29991</th>\n",
       "      <th>t29992</th>\n",
       "      <th>t29993</th>\n",
       "      <th>t29994</th>\n",
       "      <th>t29995</th>\n",
       "      <th>t29996</th>\n",
       "      <th>t29997</th>\n",
       "      <th>t29998</th>\n",
       "      <th>t29999</th>\n",
       "      <th>class</th>\n",
       "    </tr>\n",
       "  </thead>\n",
       "  <tbody>\n",
       "    <tr>\n",
       "      <th>0</th>\n",
       "      <td>-0.165</td>\n",
       "      <td>-0.325</td>\n",
       "      <td>-0.155</td>\n",
       "      <td>-0.325</td>\n",
       "      <td>-0.195</td>\n",
       "      <td>-0.305</td>\n",
       "      <td>-0.205</td>\n",
       "      <td>-0.305</td>\n",
       "      <td>-0.185</td>\n",
       "      <td>-0.295</td>\n",
       "      <td>...</td>\n",
       "      <td>-0.035</td>\n",
       "      <td>-0.025</td>\n",
       "      <td>-0.065</td>\n",
       "      <td>-0.015</td>\n",
       "      <td>-0.005</td>\n",
       "      <td>-0.015</td>\n",
       "      <td>0.015</td>\n",
       "      <td>-0.055</td>\n",
       "      <td>0.025</td>\n",
       "      <td>0.0</td>\n",
       "    </tr>\n",
       "    <tr>\n",
       "      <th>1</th>\n",
       "      <td>-0.055</td>\n",
       "      <td>0.005</td>\n",
       "      <td>-0.115</td>\n",
       "      <td>-0.015</td>\n",
       "      <td>-0.115</td>\n",
       "      <td>-0.015</td>\n",
       "      <td>-0.125</td>\n",
       "      <td>-0.005</td>\n",
       "      <td>-0.145</td>\n",
       "      <td>-0.035</td>\n",
       "      <td>...</td>\n",
       "      <td>-0.055</td>\n",
       "      <td>-0.185</td>\n",
       "      <td>-0.045</td>\n",
       "      <td>-0.125</td>\n",
       "      <td>-0.015</td>\n",
       "      <td>-0.105</td>\n",
       "      <td>0.005</td>\n",
       "      <td>-0.135</td>\n",
       "      <td>0.025</td>\n",
       "      <td>0.0</td>\n",
       "    </tr>\n",
       "    <tr>\n",
       "      <th>2</th>\n",
       "      <td>-0.115</td>\n",
       "      <td>0.025</td>\n",
       "      <td>-0.015</td>\n",
       "      <td>-0.025</td>\n",
       "      <td>-0.055</td>\n",
       "      <td>-0.045</td>\n",
       "      <td>-0.115</td>\n",
       "      <td>-0.085</td>\n",
       "      <td>-0.145</td>\n",
       "      <td>-0.095</td>\n",
       "      <td>...</td>\n",
       "      <td>0.015</td>\n",
       "      <td>-0.155</td>\n",
       "      <td>-0.085</td>\n",
       "      <td>-0.195</td>\n",
       "      <td>-0.095</td>\n",
       "      <td>-0.325</td>\n",
       "      <td>-0.055</td>\n",
       "      <td>-0.285</td>\n",
       "      <td>-0.115</td>\n",
       "      <td>0.0</td>\n",
       "    </tr>\n",
       "    <tr>\n",
       "      <th>3</th>\n",
       "      <td>-0.285</td>\n",
       "      <td>-0.055</td>\n",
       "      <td>-0.375</td>\n",
       "      <td>-0.045</td>\n",
       "      <td>-0.215</td>\n",
       "      <td>-0.125</td>\n",
       "      <td>-0.325</td>\n",
       "      <td>-0.075</td>\n",
       "      <td>-0.355</td>\n",
       "      <td>-0.115</td>\n",
       "      <td>...</td>\n",
       "      <td>-0.205</td>\n",
       "      <td>0.055</td>\n",
       "      <td>-0.215</td>\n",
       "      <td>0.085</td>\n",
       "      <td>-0.225</td>\n",
       "      <td>0.015</td>\n",
       "      <td>-0.245</td>\n",
       "      <td>-0.025</td>\n",
       "      <td>-0.265</td>\n",
       "      <td>0.0</td>\n",
       "    </tr>\n",
       "    <tr>\n",
       "      <th>4</th>\n",
       "      <td>-0.095</td>\n",
       "      <td>-0.185</td>\n",
       "      <td>-0.055</td>\n",
       "      <td>-0.165</td>\n",
       "      <td>-0.085</td>\n",
       "      <td>-0.115</td>\n",
       "      <td>-0.175</td>\n",
       "      <td>-0.105</td>\n",
       "      <td>-0.135</td>\n",
       "      <td>0.035</td>\n",
       "      <td>...</td>\n",
       "      <td>-0.025</td>\n",
       "      <td>-0.145</td>\n",
       "      <td>-0.055</td>\n",
       "      <td>-0.075</td>\n",
       "      <td>-0.075</td>\n",
       "      <td>-0.025</td>\n",
       "      <td>-0.105</td>\n",
       "      <td>-0.025</td>\n",
       "      <td>-0.145</td>\n",
       "      <td>0.0</td>\n",
       "    </tr>\n",
       "  </tbody>\n",
       "</table>\n",
       "<p>5 rows × 30001 columns</p>\n",
       "</div>"
      ],
      "text/plain": [
       "      t0     t1     t2     t3     t4     t5     t6     t7     t8     t9  ...  \\\n",
       "0 -0.165 -0.325 -0.155 -0.325 -0.195 -0.305 -0.205 -0.305 -0.185 -0.295  ...   \n",
       "1 -0.055  0.005 -0.115 -0.015 -0.115 -0.015 -0.125 -0.005 -0.145 -0.035  ...   \n",
       "2 -0.115  0.025 -0.015 -0.025 -0.055 -0.045 -0.115 -0.085 -0.145 -0.095  ...   \n",
       "3 -0.285 -0.055 -0.375 -0.045 -0.215 -0.125 -0.325 -0.075 -0.355 -0.115  ...   \n",
       "4 -0.095 -0.185 -0.055 -0.165 -0.085 -0.115 -0.175 -0.105 -0.135  0.035  ...   \n",
       "\n",
       "   t29991  t29992  t29993  t29994  t29995  t29996  t29997  t29998  t29999  \\\n",
       "0  -0.035  -0.025  -0.065  -0.015  -0.005  -0.015   0.015  -0.055   0.025   \n",
       "1  -0.055  -0.185  -0.045  -0.125  -0.015  -0.105   0.005  -0.135   0.025   \n",
       "2   0.015  -0.155  -0.085  -0.195  -0.095  -0.325  -0.055  -0.285  -0.115   \n",
       "3  -0.205   0.055  -0.215   0.085  -0.225   0.015  -0.245  -0.025  -0.265   \n",
       "4  -0.025  -0.145  -0.055  -0.075  -0.075  -0.025  -0.105  -0.025  -0.145   \n",
       "\n",
       "   class  \n",
       "0    0.0  \n",
       "1    0.0  \n",
       "2    0.0  \n",
       "3    0.0  \n",
       "4    0.0  \n",
       "\n",
       "[5 rows x 30001 columns]"
      ]
     },
     "execution_count": 22,
     "metadata": {},
     "output_type": "execute_result"
    }
   ],
   "source": [
    "full_df = pd.concat([nsrdb_df, chfdb_df],axis=0, ignore_index=True, sort=False)\n",
    "full_df.head()"
   ]
  },
  {
   "cell_type": "markdown",
   "id": "8c9c2219-e156-437f-93ab-d7f9a0a41004",
   "metadata": {},
   "source": [
    "# Split Data"
   ]
  },
  {
   "cell_type": "code",
   "execution_count": 23,
   "id": "94ff39c6",
   "metadata": {},
   "outputs": [],
   "source": [
    "y_df = full_df.pop(\"class\")\n",
    "x_df = full_df"
   ]
  },
  {
   "cell_type": "code",
   "execution_count": 24,
   "id": "80bf90fd",
   "metadata": {},
   "outputs": [],
   "source": [
    "X_train, X_test, y_train, y_test = train_test_split(x_df, y_df, test_size=0.30, random_state=42)"
   ]
  },
  {
   "cell_type": "code",
   "execution_count": 25,
   "id": "4192a62e",
   "metadata": {},
   "outputs": [],
   "source": [
    "X_train, X_validate, y_train, y_validate = train_test_split(X_train, y_train, test_size=0.20, random_state=42)"
   ]
  },
  {
   "cell_type": "code",
   "execution_count": 26,
   "id": "3069dc1e",
   "metadata": {},
   "outputs": [
    {
     "name": "stdout",
     "output_type": "stream",
     "text": [
      "Training Data: (17557, 30000)\n",
      "Validation Data: (4390, 30000)\n",
      "Testing Data: (9407, 30000)\n"
     ]
    }
   ],
   "source": [
    "print(\"Training Data:\", X_train.shape)\n",
    "print(\"Validation Data:\", X_validate.shape)\n",
    "print(\"Testing Data:\", X_test.shape)"
   ]
  },
  {
   "cell_type": "markdown",
   "id": "5c47bc2d-9554-46b3-ae53-86d1c4e82701",
   "metadata": {
    "tags": []
   },
   "source": [
    "# Model"
   ]
  },
  {
   "cell_type": "code",
   "execution_count": 27,
   "id": "e8cb0175",
   "metadata": {},
   "outputs": [],
   "source": [
    "input_shape = (X_train.shape[1], 1, )"
   ]
  },
  {
   "cell_type": "markdown",
   "id": "1e5f1130",
   "metadata": {},
   "source": [
    "The first convolutional layer will consist of 20 filters, followed by a max-pooling layer of length 2.\n",
    " \n",
    "The second convolutional layer will have 80 filters with a max-pooling layer of length 4.\n",
    " \n",
    "There will be 32 neurons used in the fully connected convolution layers to feed into the softmax classification layer."
   ]
  },
  {
   "cell_type": "code",
   "execution_count": 28,
   "id": "9c822dab-7fe5-439f-8f51-e404d7aa3294",
   "metadata": {},
   "outputs": [],
   "source": [
    "model = tf.keras.Sequential(\n",
    "    [\n",
    "        tf.keras.Input(shape=input_shape),\n",
    "        tf.keras.layers.Conv1D(20, 5),\n",
    "        tf.keras.layers.MaxPooling1D(2),\n",
    "        tf.keras.layers.Conv1D(80, 5),\n",
    "        tf.keras.layers.MaxPooling1D(4),\n",
    "        tf.keras.layers.Dense(32),\n",
    "        tf.keras.layers.Dense(32),\n",
    "        tf.keras.layers.Dense(1, activation='sigmoid'),  # Sigmoid for binary classification\n",
    "    ]\n",
    ")\n"
   ]
  },
  {
   "cell_type": "code",
   "execution_count": 29,
   "id": "38f1f7f1-5a1e-429f-b91c-f4265dd7f29b",
   "metadata": {},
   "outputs": [
    {
     "name": "stdout",
     "output_type": "stream",
     "text": [
      "Model: \"sequential\"\n",
      "_________________________________________________________________\n",
      " Layer (type)                Output Shape              Param #   \n",
      "=================================================================\n",
      " conv1d (Conv1D)             (None, 29996, 20)         120       \n",
      "                                                                 \n",
      " max_pooling1d (MaxPooling1  (None, 14998, 20)         0         \n",
      " D)                                                              \n",
      "                                                                 \n",
      " conv1d_1 (Conv1D)           (None, 14994, 80)         8080      \n",
      "                                                                 \n",
      " max_pooling1d_1 (MaxPoolin  (None, 3748, 80)          0         \n",
      " g1D)                                                            \n",
      "                                                                 \n",
      " dense (Dense)               (None, 3748, 32)          2592      \n",
      "                                                                 \n",
      " dense_1 (Dense)             (None, 3748, 32)          1056      \n",
      "                                                                 \n",
      " dense_2 (Dense)             (None, 3748, 1)           33        \n",
      "                                                                 \n",
      "=================================================================\n",
      "Total params: 11881 (46.41 KB)\n",
      "Trainable params: 11881 (46.41 KB)\n",
      "Non-trainable params: 0 (0.00 Byte)\n",
      "_________________________________________________________________\n"
     ]
    }
   ],
   "source": [
    "model.summary()"
   ]
  },
  {
   "cell_type": "markdown",
   "id": "73e19784-1e8d-46bf-a270-1b14ca2f158a",
   "metadata": {},
   "source": [
    "# Model Training"
   ]
  },
  {
   "cell_type": "code",
   "execution_count": 30,
   "id": "0ef87dbd-e70f-469d-83ce-ef7273a3650f",
   "metadata": {},
   "outputs": [],
   "source": [
    "batch_size = 32\n",
    "epochs = 30"
   ]
  },
  {
   "cell_type": "code",
   "execution_count": 31,
   "id": "7e6780c7",
   "metadata": {},
   "outputs": [],
   "source": [
    "model.compile(optimizer='adam', loss='binary_crossentropy', metrics=['accuracy'])"
   ]
  },
  {
   "cell_type": "code",
   "execution_count": null,
   "id": "9f865be5",
   "metadata": {},
   "outputs": [
    {
     "name": "stdout",
     "output_type": "stream",
     "text": [
      "Epoch 1/30\n",
      "124/124 [==============================] - 220s 2s/step - loss: 0.4317 - accuracy: 0.8015 - val_loss: 0.3774 - val_accuracy: 0.8267\n",
      "Epoch 2/30\n",
      "124/124 [==============================] - 225s 2s/step - loss: 0.3676 - accuracy: 0.8554 - val_loss: 0.3537 - val_accuracy: 0.8539\n",
      "Epoch 3/30\n",
      " 22/124 [====>.........................] - ETA: 3:00 - loss: 0.3644 - accuracy: 0.8630"
     ]
    }
   ],
   "source": [
    "model.fit(X_train, y_train, batch_size=batch_size, epochs=epochs, validation_split=0.1)"
   ]
  },
  {
   "cell_type": "markdown",
   "id": "ac01da66-b202-4299-800f-0da6a35747a0",
   "metadata": {},
   "source": [
    "# Model Evaluation"
   ]
  },
  {
   "cell_type": "code",
   "execution_count": null,
   "id": "7715a956-95d1-4993-bdbf-37da11cc6fb2",
   "metadata": {},
   "outputs": [],
   "source": [
    "score = model.evaluate(X_test, y_test, verbose=0)\n",
    "print(\"Test loss:\", score[0])\n",
    "print(\"Test accuracy:\", score[1])"
   ]
  },
  {
   "cell_type": "code",
   "execution_count": null,
   "id": "9c774b9c",
   "metadata": {},
   "outputs": [],
   "source": []
  }
 ],
 "metadata": {
  "kernelspec": {
   "display_name": "Python 3 (ipykernel)",
   "language": "python",
   "name": "python3"
  },
  "language_info": {
   "codemirror_mode": {
    "name": "ipython",
    "version": 3
   },
   "file_extension": ".py",
   "mimetype": "text/x-python",
   "name": "python",
   "nbconvert_exporter": "python",
   "pygments_lexer": "ipython3",
   "version": "3.11.4"
  }
 },
 "nbformat": 4,
 "nbformat_minor": 5
}
