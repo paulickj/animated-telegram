{
 "cells": [
  {
   "cell_type": "code",
   "execution_count": null,
   "id": "a39cdb30-62a0-41ce-91ee-7ca048c7cc1a",
   "metadata": {},
   "outputs": [],
   "source": [
    "#%pip uninstall importlib_metadata -y\n",
    "#%pip install importlib_metadata --force-reinstall"
   ]
  },
  {
   "cell_type": "code",
   "execution_count": null,
   "id": "bdf8dc55-b08b-4d6e-873d-ebab85abe1d1",
   "metadata": {},
   "outputs": [],
   "source": [
    "#%pip install keras"
   ]
  },
  {
   "cell_type": "code",
   "execution_count": null,
   "id": "2acfff8a-d8bb-483c-98a7-9a27a95bfc1f",
   "metadata": {},
   "outputs": [],
   "source": [
    "#%env SKLEARN_ALLOW_DEPRECATED_SKLEARN_PACKAGE_INSTALL=True"
   ]
  },
  {
   "cell_type": "code",
   "execution_count": null,
   "id": "ee9110d1-6d2c-4fef-80e2-dea591524536",
   "metadata": {},
   "outputs": [],
   "source": [
    "#%pip install --force-reinstall -v \"wfdb==1.3.9\""
   ]
  },
  {
   "cell_type": "code",
   "execution_count": null,
   "id": "96120f74-960a-41c7-aa80-90dd6ec997fa",
   "metadata": {},
   "outputs": [],
   "source": [
    "#%pip install --force-reinstall -v \"wfdb==4.1.2\""
   ]
  },
  {
   "cell_type": "code",
   "execution_count": null,
   "id": "e08ab7f5",
   "metadata": {},
   "outputs": [],
   "source": [
    "%pip install wfdb"
   ]
  },
  {
   "cell_type": "code",
   "execution_count": 3,
   "id": "64df1fbf-a915-4fce-bee5-7d818fc7f1ab",
   "metadata": {},
   "outputs": [],
   "source": [
    "import glob\n",
    "import os\n",
    "import pandas as pd\n",
    "import matplotlib.pyplot as plt \n",
    "import tensorflow as tf\n",
    "from sklearn.model_selection import train_test_split\n",
    "import wfdb"
   ]
  },
  {
   "cell_type": "markdown",
   "id": "34894de1-4196-4a52-8a62-68aa1614057a",
   "metadata": {},
   "source": [
    "1. Data Collection:\n",
    "·Datasets Used:\n",
    "·CHF-RR Dataset: Congestive heart failure RR interval database. It comprised patients with heart failure. This dataset contained records of 29 patients from CHF201 to CHF229.\n",
    "·NSR-RR Dataset: Normal sinus rhythm RR interval database. This dataset had 54 normal sinus rhythm recordings ranging in age from 28 to 76. Records from NSR001 through NSR054 of 54 patients were available.\n",
    "·Both datasets were provided by PhysioBank.\n",
    "2. Data Preprocessing:\n",
    "·Conversion: Datasets were converted to CSV files or directly imported into Python.\n",
    "·Library Used: The wfdblibrary was employed to read, write, and process WFDB signals and annotations. The library can be accessed at wfdb library.\n",
    "·Grouping Approach: Among various grouping methods for the TSC algorithm, intervals were chosen over whole series. Data was normalized and divided into intervals of 5sec, 20sec, 40sec, 60sec, and 80sec.\n",
    "·Data Formatting: Data was formatted into univariate UCR time series.\n",
    "3. Data Augmentation:\n",
    "·Data Augmentation Strategy: To combat issues of underfitting and overfitting, data augmentation was mentioned as a strategy. However, specific augmentation techniques were not detailed in the provided information."
   ]
  },
  {
   "cell_type": "markdown",
   "id": "5f3c6f9d-d664-4645-96bb-46b494887aff",
   "metadata": {
    "tags": []
   },
   "source": [
    "# Downloading Data"
   ]
  },
  {
   "cell_type": "code",
   "execution_count": null,
   "id": "a8ad0c2a-cb7f-4439-82e5-de62f0e4b629",
   "metadata": {},
   "outputs": [],
   "source": [
    "dbs = wfdb.get_dbs()\n",
    "display(dbs)"
   ]
  },
  {
   "cell_type": "code",
   "execution_count": null,
   "id": "dd253c98-fbb4-4429-a3b9-40a5a0ba51c5",
   "metadata": {},
   "outputs": [],
   "source": [
    "def download(database):\n",
    "    cwd = os.getcwd()\n",
    "    dl_dir = os.path.join(cwd, database)\n",
    "    wfdb.dl_database(database, dl_dir=dl_dir)\n",
    "    display(os.listdir(dl_dir))"
   ]
  },
  {
   "cell_type": "code",
   "execution_count": null,
   "id": "2d4d840e-cb65-4562-bde7-836c39367218",
   "metadata": {},
   "outputs": [],
   "source": [
    "download('nsrdb')"
   ]
  },
  {
   "cell_type": "code",
   "execution_count": null,
   "id": "6cb46f35-002f-4cd5-8107-d285432a0b48",
   "metadata": {},
   "outputs": [],
   "source": [
    "download('chfdb')"
   ]
  },
  {
   "cell_type": "markdown",
   "id": "322fa21b-22be-45c8-8423-04c02630f824",
   "metadata": {},
   "source": [
    "# Converting Data"
   ]
  },
  {
   "cell_type": "code",
   "execution_count": 4,
   "id": "05160cff-72a3-4a28-9cb0-bbeec3f7cc8c",
   "metadata": {},
   "outputs": [],
   "source": [
    "def wfdb_to_dataframe(record):\n",
    "    #df = record.to_dataframe()\n",
    "    df = pd.DataFrame(record.p_signal, columns=record.sig_name)\n",
    "    return df\n",
    " \n",
    "def load_record(uri):\n",
    "    record = wfdb.rdrecord(uri)\n",
    "    return wfdb_to_dataframe(record)"
   ]
  },
  {
   "cell_type": "code",
   "execution_count": null,
   "id": "eddd19b5-5bf9-4686-a4cb-59d4a4cc27a1",
   "metadata": {},
   "outputs": [],
   "source": [
    "a = load_record('nsrdb/16265')\n",
    "plt.plot(a['ECG1'][:212])\n",
    "plt.show()"
   ]
  },
  {
   "cell_type": "code",
   "execution_count": null,
   "id": "590fea20",
   "metadata": {},
   "outputs": [],
   "source": [
    "plt.plot(a['ECG2'][:212])"
   ]
  },
  {
   "cell_type": "code",
   "execution_count": null,
   "id": "7bca8839",
   "metadata": {},
   "outputs": [],
   "source": [
    "load_record('chfdb/chf03')"
   ]
  },
  {
   "cell_type": "code",
   "execution_count": 6,
   "id": "6f3f5eb4",
   "metadata": {},
   "outputs": [
    {
     "data": {
      "text/plain": [
       "18"
      ]
     },
     "execution_count": 6,
     "metadata": {},
     "output_type": "execute_result"
    }
   ],
   "source": [
    "nsrdb_list = glob.glob(\"nsrdb/*.hea\")\n",
    "len(nsrdb_list)"
   ]
  },
  {
   "cell_type": "code",
   "execution_count": 7,
   "id": "de365277",
   "metadata": {},
   "outputs": [
    {
     "data": {
      "text/plain": [
       "15"
      ]
     },
     "execution_count": 7,
     "metadata": {},
     "output_type": "execute_result"
    }
   ],
   "source": [
    "chfdb_list = glob.glob(\"chfdb/*.hea\")\n",
    "len(chfdb_list)"
   ]
  },
  {
   "cell_type": "code",
   "execution_count": 8,
   "id": "4e709294",
   "metadata": {},
   "outputs": [],
   "source": [
    "def create_db(file_list, record_class, record_len, record_split=1):\n",
    "    df = pd.DataFrame()\n",
    "    for file in file_list:\n",
    "        record_df = load_record(file.removesuffix(\".hea\"))['ECG1'][:record_len]\n",
    "        split = record_len//record_split\n",
    "        i=0\n",
    "        while i+split <= record_len:\n",
    "            split_df = record_df[i:i+split].reset_index()\n",
    "            i = i + split\n",
    "            \n",
    "            if df.empty:\n",
    "                df = split_df\n",
    "            else:\n",
    "                df = pd.concat([df, split_df],axis=1, ignore_index=True, sort=False)\n",
    "            \n",
    "    df = df.transpose()\n",
    "    df[\"class\"] = [record_class]*df.shape[0]\n",
    "    return df"
   ]
  },
  {
   "cell_type": "code",
   "execution_count": 116,
   "id": "b0c3b6a6",
   "metadata": {},
   "outputs": [],
   "source": [
    "record_len = 100"
   ]
  },
  {
   "cell_type": "code",
   "execution_count": 117,
   "id": "c8e04fd5",
   "metadata": {},
   "outputs": [
    {
     "data": {
      "text/plain": [
       "(36, 101)"
      ]
     },
     "execution_count": 117,
     "metadata": {},
     "output_type": "execute_result"
    }
   ],
   "source": [
    "nsrdb_df = create_db(nsrdb_list, 0, record_len)\n",
    "nsrdb_df.shape"
   ]
  },
  {
   "cell_type": "code",
   "execution_count": 118,
   "id": "44e0550f",
   "metadata": {},
   "outputs": [
    {
     "data": {
      "text/plain": [
       "(30, 101)"
      ]
     },
     "execution_count": 118,
     "metadata": {},
     "output_type": "execute_result"
    }
   ],
   "source": [
    "chfdb_df = create_db(chfdb_list, 1, record_len)\n",
    "chfdb_df.shape"
   ]
  },
  {
   "cell_type": "code",
   "execution_count": 119,
   "id": "326d8ae4-94c7-4e3e-811f-a1b7f3fbabc2",
   "metadata": {},
   "outputs": [
    {
     "data": {
      "text/html": [
       "<div>\n",
       "<style scoped>\n",
       "    .dataframe tbody tr th:only-of-type {\n",
       "        vertical-align: middle;\n",
       "    }\n",
       "\n",
       "    .dataframe tbody tr th {\n",
       "        vertical-align: top;\n",
       "    }\n",
       "\n",
       "    .dataframe thead th {\n",
       "        text-align: right;\n",
       "    }\n",
       "</style>\n",
       "<table border=\"1\" class=\"dataframe\">\n",
       "  <thead>\n",
       "    <tr style=\"text-align: right;\">\n",
       "      <th></th>\n",
       "      <th>0</th>\n",
       "      <th>1</th>\n",
       "      <th>2</th>\n",
       "      <th>3</th>\n",
       "      <th>4</th>\n",
       "      <th>5</th>\n",
       "      <th>6</th>\n",
       "      <th>7</th>\n",
       "      <th>8</th>\n",
       "      <th>9</th>\n",
       "      <th>...</th>\n",
       "      <th>91</th>\n",
       "      <th>92</th>\n",
       "      <th>93</th>\n",
       "      <th>94</th>\n",
       "      <th>95</th>\n",
       "      <th>96</th>\n",
       "      <th>97</th>\n",
       "      <th>98</th>\n",
       "      <th>99</th>\n",
       "      <th>class</th>\n",
       "    </tr>\n",
       "  </thead>\n",
       "  <tbody>\n",
       "    <tr>\n",
       "      <th>0</th>\n",
       "      <td>0.000</td>\n",
       "      <td>1.000</td>\n",
       "      <td>2.000</td>\n",
       "      <td>3.000</td>\n",
       "      <td>4.000</td>\n",
       "      <td>5.000</td>\n",
       "      <td>6.000</td>\n",
       "      <td>7.000</td>\n",
       "      <td>8.000</td>\n",
       "      <td>9.000</td>\n",
       "      <td>...</td>\n",
       "      <td>91.000</td>\n",
       "      <td>92.000</td>\n",
       "      <td>93.000</td>\n",
       "      <td>94.000</td>\n",
       "      <td>95.000</td>\n",
       "      <td>96.000</td>\n",
       "      <td>97.000</td>\n",
       "      <td>98.000</td>\n",
       "      <td>99.000</td>\n",
       "      <td>0</td>\n",
       "    </tr>\n",
       "    <tr>\n",
       "      <th>1</th>\n",
       "      <td>-0.165</td>\n",
       "      <td>-0.155</td>\n",
       "      <td>-0.195</td>\n",
       "      <td>-0.205</td>\n",
       "      <td>-0.185</td>\n",
       "      <td>-0.155</td>\n",
       "      <td>-0.135</td>\n",
       "      <td>-0.095</td>\n",
       "      <td>-0.075</td>\n",
       "      <td>-0.065</td>\n",
       "      <td>...</td>\n",
       "      <td>-0.155</td>\n",
       "      <td>-0.105</td>\n",
       "      <td>-0.125</td>\n",
       "      <td>-0.135</td>\n",
       "      <td>-0.125</td>\n",
       "      <td>-0.115</td>\n",
       "      <td>-0.105</td>\n",
       "      <td>-0.135</td>\n",
       "      <td>-0.135</td>\n",
       "      <td>0</td>\n",
       "    </tr>\n",
       "    <tr>\n",
       "      <th>2</th>\n",
       "      <td>0.000</td>\n",
       "      <td>1.000</td>\n",
       "      <td>2.000</td>\n",
       "      <td>3.000</td>\n",
       "      <td>4.000</td>\n",
       "      <td>5.000</td>\n",
       "      <td>6.000</td>\n",
       "      <td>7.000</td>\n",
       "      <td>8.000</td>\n",
       "      <td>9.000</td>\n",
       "      <td>...</td>\n",
       "      <td>91.000</td>\n",
       "      <td>92.000</td>\n",
       "      <td>93.000</td>\n",
       "      <td>94.000</td>\n",
       "      <td>95.000</td>\n",
       "      <td>96.000</td>\n",
       "      <td>97.000</td>\n",
       "      <td>98.000</td>\n",
       "      <td>99.000</td>\n",
       "      <td>0</td>\n",
       "    </tr>\n",
       "    <tr>\n",
       "      <th>3</th>\n",
       "      <td>-0.095</td>\n",
       "      <td>-0.085</td>\n",
       "      <td>-0.085</td>\n",
       "      <td>-0.085</td>\n",
       "      <td>-0.065</td>\n",
       "      <td>-0.045</td>\n",
       "      <td>-0.045</td>\n",
       "      <td>-0.045</td>\n",
       "      <td>-0.045</td>\n",
       "      <td>-0.025</td>\n",
       "      <td>...</td>\n",
       "      <td>-0.025</td>\n",
       "      <td>-0.015</td>\n",
       "      <td>-0.025</td>\n",
       "      <td>-0.025</td>\n",
       "      <td>-0.045</td>\n",
       "      <td>-0.055</td>\n",
       "      <td>-0.085</td>\n",
       "      <td>-0.115</td>\n",
       "      <td>-0.135</td>\n",
       "      <td>0</td>\n",
       "    </tr>\n",
       "    <tr>\n",
       "      <th>4</th>\n",
       "      <td>0.000</td>\n",
       "      <td>1.000</td>\n",
       "      <td>2.000</td>\n",
       "      <td>3.000</td>\n",
       "      <td>4.000</td>\n",
       "      <td>5.000</td>\n",
       "      <td>6.000</td>\n",
       "      <td>7.000</td>\n",
       "      <td>8.000</td>\n",
       "      <td>9.000</td>\n",
       "      <td>...</td>\n",
       "      <td>91.000</td>\n",
       "      <td>92.000</td>\n",
       "      <td>93.000</td>\n",
       "      <td>94.000</td>\n",
       "      <td>95.000</td>\n",
       "      <td>96.000</td>\n",
       "      <td>97.000</td>\n",
       "      <td>98.000</td>\n",
       "      <td>99.000</td>\n",
       "      <td>0</td>\n",
       "    </tr>\n",
       "  </tbody>\n",
       "</table>\n",
       "<p>5 rows × 101 columns</p>\n",
       "</div>"
      ],
      "text/plain": [
       "       0      1      2      3      4      5      6      7      8      9  ...  \\\n",
       "0  0.000  1.000  2.000  3.000  4.000  5.000  6.000  7.000  8.000  9.000  ...   \n",
       "1 -0.165 -0.155 -0.195 -0.205 -0.185 -0.155 -0.135 -0.095 -0.075 -0.065  ...   \n",
       "2  0.000  1.000  2.000  3.000  4.000  5.000  6.000  7.000  8.000  9.000  ...   \n",
       "3 -0.095 -0.085 -0.085 -0.085 -0.065 -0.045 -0.045 -0.045 -0.045 -0.025  ...   \n",
       "4  0.000  1.000  2.000  3.000  4.000  5.000  6.000  7.000  8.000  9.000  ...   \n",
       "\n",
       "       91      92      93      94      95      96      97      98      99  \\\n",
       "0  91.000  92.000  93.000  94.000  95.000  96.000  97.000  98.000  99.000   \n",
       "1  -0.155  -0.105  -0.125  -0.135  -0.125  -0.115  -0.105  -0.135  -0.135   \n",
       "2  91.000  92.000  93.000  94.000  95.000  96.000  97.000  98.000  99.000   \n",
       "3  -0.025  -0.015  -0.025  -0.025  -0.045  -0.055  -0.085  -0.115  -0.135   \n",
       "4  91.000  92.000  93.000  94.000  95.000  96.000  97.000  98.000  99.000   \n",
       "\n",
       "   class  \n",
       "0      0  \n",
       "1      0  \n",
       "2      0  \n",
       "3      0  \n",
       "4      0  \n",
       "\n",
       "[5 rows x 101 columns]"
      ]
     },
     "execution_count": 119,
     "metadata": {},
     "output_type": "execute_result"
    }
   ],
   "source": [
    "full_df = pd.concat([nsrdb_df, chfdb_df],axis=0, ignore_index=True, sort=False)\n",
    "full_df.head()"
   ]
  },
  {
   "cell_type": "markdown",
   "id": "8c9c2219-e156-437f-93ab-d7f9a0a41004",
   "metadata": {},
   "source": [
    "# Split Data"
   ]
  },
  {
   "cell_type": "code",
   "execution_count": 120,
   "id": "94ff39c6",
   "metadata": {},
   "outputs": [],
   "source": [
    "y_df = full_df.pop(\"class\")\n",
    "x_df = full_df"
   ]
  },
  {
   "cell_type": "code",
   "execution_count": 121,
   "id": "80bf90fd",
   "metadata": {},
   "outputs": [],
   "source": [
    "X_train, X_test, y_train, y_test = train_test_split(x_df, y_df, test_size=0.30, random_state=42)"
   ]
  },
  {
   "cell_type": "code",
   "execution_count": 122,
   "id": "4192a62e",
   "metadata": {},
   "outputs": [],
   "source": [
    "X_train, X_validate, y_train, y_validate = train_test_split(X_train, y_train, test_size=0.20, random_state=42)"
   ]
  },
  {
   "cell_type": "code",
   "execution_count": 123,
   "id": "3069dc1e",
   "metadata": {},
   "outputs": [
    {
     "name": "stdout",
     "output_type": "stream",
     "text": [
      "Training Data: (36, 100)\n",
      "Validation Data: (10, 100)\n",
      "Testing Data: (20, 100)\n"
     ]
    }
   ],
   "source": [
    "print(\"Training Data:\", X_train.shape)\n",
    "print(\"Validation Data:\", X_validate.shape)\n",
    "print(\"Testing Data:\", X_test.shape)"
   ]
  },
  {
   "cell_type": "markdown",
   "id": "5c47bc2d-9554-46b3-ae53-86d1c4e82701",
   "metadata": {
    "tags": []
   },
   "source": [
    "# Model"
   ]
  },
  {
   "cell_type": "code",
   "execution_count": 124,
   "id": "e8cb0175",
   "metadata": {},
   "outputs": [],
   "source": [
    "input_shape = (X_train.shape[1], 1, )"
   ]
  },
  {
   "cell_type": "markdown",
   "id": "1e5f1130",
   "metadata": {},
   "source": [
    "The first convolutional layer will consist of 20 filters, followed by a max-pooling layer of length 2.\n",
    " \n",
    "The second convolutional layer will have 80 filters with a max-pooling layer of length 4.\n",
    " \n",
    "There will be 32 neurons used in the fully connected convolution layers to feed into the softmax classification layer."
   ]
  },
  {
   "cell_type": "code",
   "execution_count": 130,
   "id": "9c822dab-7fe5-439f-8f51-e404d7aa3294",
   "metadata": {},
   "outputs": [],
   "source": [
    "#TODO: Finish model implimentation\n",
    "model = tf.keras.Sequential(\n",
    "    [\n",
    "        tf.keras.Input(shape=input_shape),\n",
    "        tf.keras.layers.Conv1D(\n",
    "            20,\n",
    "            5,\n",
    "            ),\n",
    "        tf.keras.layers.MaxPooling1D(\n",
    "            2,\n",
    "            ),\n",
    "        tf.keras.layers.Conv1D(\n",
    "            80,\n",
    "            5),\n",
    "        tf.keras.layers.MaxPooling1D(\n",
    "            4, \n",
    "            ),\n",
    "        tf.keras.layers.Dense(\n",
    "            32),\n",
    "        tf.keras.layers.Softmax(),\n",
    "    ]\n",
    ")"
   ]
  },
  {
   "cell_type": "code",
   "execution_count": 131,
   "id": "38f1f7f1-5a1e-429f-b91c-f4265dd7f29b",
   "metadata": {},
   "outputs": [
    {
     "name": "stdout",
     "output_type": "stream",
     "text": [
      "Model: \"sequential_18\"\n",
      "_________________________________________________________________\n",
      " Layer (type)                Output Shape              Param #   \n",
      "=================================================================\n",
      " conv1d_39 (Conv1D)          (None, 96, 20)            120       \n",
      "                                                                 \n",
      " max_pooling1d_37 (MaxPoolin  (None, 48, 20)           0         \n",
      " g1D)                                                            \n",
      "                                                                 \n",
      " conv1d_40 (Conv1D)          (None, 44, 80)            8080      \n",
      "                                                                 \n",
      " max_pooling1d_38 (MaxPoolin  (None, 11, 80)           0         \n",
      " g1D)                                                            \n",
      "                                                                 \n",
      " dense_18 (Dense)            (None, 11, 32)            2592      \n",
      "                                                                 \n",
      " softmax_18 (Softmax)        (None, 11, 32)            0         \n",
      "                                                                 \n",
      "=================================================================\n",
      "Total params: 10,792\n",
      "Trainable params: 10,792\n",
      "Non-trainable params: 0\n",
      "_________________________________________________________________\n"
     ]
    }
   ],
   "source": [
    "model.summary()"
   ]
  },
  {
   "cell_type": "markdown",
   "id": "73e19784-1e8d-46bf-a270-1b14ca2f158a",
   "metadata": {},
   "source": [
    "# Model Training"
   ]
  },
  {
   "cell_type": "code",
   "execution_count": 132,
   "id": "0ef87dbd-e70f-469d-83ce-ef7273a3650f",
   "metadata": {},
   "outputs": [],
   "source": [
    "batch_size = 128\n",
    "epochs = 15"
   ]
  },
  {
   "cell_type": "code",
   "execution_count": 133,
   "id": "7e6780c7",
   "metadata": {},
   "outputs": [],
   "source": [
    "model.compile(loss=\"categorical_crossentropy\", optimizer=\"adam\", metrics=[\"accuracy\"])"
   ]
  },
  {
   "cell_type": "code",
   "execution_count": 134,
   "id": "9f865be5",
   "metadata": {},
   "outputs": [
    {
     "name": "stdout",
     "output_type": "stream",
     "text": [
      "Epoch 1/15\n"
     ]
    },
    {
     "ename": "ValueError",
     "evalue": "in user code:\n\n    File \"/usr/local/lib/python3.10/dist-packages/keras/engine/training.py\", line 1284, in train_function  *\n        return step_function(self, iterator)\n    File \"/usr/local/lib/python3.10/dist-packages/keras/engine/training.py\", line 1268, in step_function  **\n        outputs = model.distribute_strategy.run(run_step, args=(data,))\n    File \"/usr/local/lib/python3.10/dist-packages/keras/engine/training.py\", line 1249, in run_step  **\n        outputs = model.train_step(data)\n    File \"/usr/local/lib/python3.10/dist-packages/keras/engine/training.py\", line 1051, in train_step\n        loss = self.compute_loss(x, y, y_pred, sample_weight)\n    File \"/usr/local/lib/python3.10/dist-packages/keras/engine/training.py\", line 1109, in compute_loss\n        return self.compiled_loss(\n    File \"/usr/local/lib/python3.10/dist-packages/keras/engine/compile_utils.py\", line 265, in __call__\n        loss_value = loss_obj(y_t, y_p, sample_weight=sw)\n    File \"/usr/local/lib/python3.10/dist-packages/keras/losses.py\", line 142, in __call__\n        losses = call_fn(y_true, y_pred)\n    File \"/usr/local/lib/python3.10/dist-packages/keras/losses.py\", line 268, in call  **\n        return ag_fn(y_true, y_pred, **self._fn_kwargs)\n    File \"/usr/local/lib/python3.10/dist-packages/keras/losses.py\", line 1984, in categorical_crossentropy\n        return backend.categorical_crossentropy(\n    File \"/usr/local/lib/python3.10/dist-packages/keras/backend.py\", line 5559, in categorical_crossentropy\n        target.shape.assert_is_compatible_with(output.shape)\n\n    ValueError: Shapes (None, 1) and (None, 11, 32) are incompatible\n",
     "output_type": "error",
     "traceback": [
      "\u001b[0;31m---------------------------------------------------------------------------\u001b[0m",
      "\u001b[0;31mValueError\u001b[0m                                Traceback (most recent call last)",
      "Cell \u001b[0;32mIn[134], line 1\u001b[0m\n\u001b[0;32m----> 1\u001b[0m \u001b[43mmodel\u001b[49m\u001b[38;5;241;43m.\u001b[39;49m\u001b[43mfit\u001b[49m\u001b[43m(\u001b[49m\u001b[43mX_train\u001b[49m\u001b[43m,\u001b[49m\u001b[43m \u001b[49m\u001b[43my_train\u001b[49m\u001b[43m,\u001b[49m\u001b[43m \u001b[49m\u001b[43mbatch_size\u001b[49m\u001b[38;5;241;43m=\u001b[39;49m\u001b[43mbatch_size\u001b[49m\u001b[43m,\u001b[49m\u001b[43m \u001b[49m\u001b[43mepochs\u001b[49m\u001b[38;5;241;43m=\u001b[39;49m\u001b[43mepochs\u001b[49m\u001b[43m,\u001b[49m\u001b[43m \u001b[49m\u001b[43mvalidation_split\u001b[49m\u001b[38;5;241;43m=\u001b[39;49m\u001b[38;5;241;43m0.1\u001b[39;49m\u001b[43m)\u001b[49m\n",
      "File \u001b[0;32m/usr/local/lib/python3.10/dist-packages/keras/utils/traceback_utils.py:70\u001b[0m, in \u001b[0;36mfilter_traceback.<locals>.error_handler\u001b[0;34m(*args, **kwargs)\u001b[0m\n\u001b[1;32m     67\u001b[0m     filtered_tb \u001b[38;5;241m=\u001b[39m _process_traceback_frames(e\u001b[38;5;241m.\u001b[39m__traceback__)\n\u001b[1;32m     68\u001b[0m     \u001b[38;5;66;03m# To get the full stack trace, call:\u001b[39;00m\n\u001b[1;32m     69\u001b[0m     \u001b[38;5;66;03m# `tf.debugging.disable_traceback_filtering()`\u001b[39;00m\n\u001b[0;32m---> 70\u001b[0m     \u001b[38;5;28;01mraise\u001b[39;00m e\u001b[38;5;241m.\u001b[39mwith_traceback(filtered_tb) \u001b[38;5;28;01mfrom\u001b[39;00m \u001b[38;5;28;01mNone\u001b[39;00m\n\u001b[1;32m     71\u001b[0m \u001b[38;5;28;01mfinally\u001b[39;00m:\n\u001b[1;32m     72\u001b[0m     \u001b[38;5;28;01mdel\u001b[39;00m filtered_tb\n",
      "File \u001b[0;32m/tmp/__autograph_generated_file7r_xhwan.py:15\u001b[0m, in \u001b[0;36mouter_factory.<locals>.inner_factory.<locals>.tf__train_function\u001b[0;34m(iterator)\u001b[0m\n\u001b[1;32m     13\u001b[0m \u001b[38;5;28;01mtry\u001b[39;00m:\n\u001b[1;32m     14\u001b[0m     do_return \u001b[38;5;241m=\u001b[39m \u001b[38;5;28;01mTrue\u001b[39;00m\n\u001b[0;32m---> 15\u001b[0m     retval_ \u001b[38;5;241m=\u001b[39m ag__\u001b[38;5;241m.\u001b[39mconverted_call(ag__\u001b[38;5;241m.\u001b[39mld(step_function), (ag__\u001b[38;5;241m.\u001b[39mld(\u001b[38;5;28mself\u001b[39m), ag__\u001b[38;5;241m.\u001b[39mld(iterator)), \u001b[38;5;28;01mNone\u001b[39;00m, fscope)\n\u001b[1;32m     16\u001b[0m \u001b[38;5;28;01mexcept\u001b[39;00m:\n\u001b[1;32m     17\u001b[0m     do_return \u001b[38;5;241m=\u001b[39m \u001b[38;5;28;01mFalse\u001b[39;00m\n",
      "\u001b[0;31mValueError\u001b[0m: in user code:\n\n    File \"/usr/local/lib/python3.10/dist-packages/keras/engine/training.py\", line 1284, in train_function  *\n        return step_function(self, iterator)\n    File \"/usr/local/lib/python3.10/dist-packages/keras/engine/training.py\", line 1268, in step_function  **\n        outputs = model.distribute_strategy.run(run_step, args=(data,))\n    File \"/usr/local/lib/python3.10/dist-packages/keras/engine/training.py\", line 1249, in run_step  **\n        outputs = model.train_step(data)\n    File \"/usr/local/lib/python3.10/dist-packages/keras/engine/training.py\", line 1051, in train_step\n        loss = self.compute_loss(x, y, y_pred, sample_weight)\n    File \"/usr/local/lib/python3.10/dist-packages/keras/engine/training.py\", line 1109, in compute_loss\n        return self.compiled_loss(\n    File \"/usr/local/lib/python3.10/dist-packages/keras/engine/compile_utils.py\", line 265, in __call__\n        loss_value = loss_obj(y_t, y_p, sample_weight=sw)\n    File \"/usr/local/lib/python3.10/dist-packages/keras/losses.py\", line 142, in __call__\n        losses = call_fn(y_true, y_pred)\n    File \"/usr/local/lib/python3.10/dist-packages/keras/losses.py\", line 268, in call  **\n        return ag_fn(y_true, y_pred, **self._fn_kwargs)\n    File \"/usr/local/lib/python3.10/dist-packages/keras/losses.py\", line 1984, in categorical_crossentropy\n        return backend.categorical_crossentropy(\n    File \"/usr/local/lib/python3.10/dist-packages/keras/backend.py\", line 5559, in categorical_crossentropy\n        target.shape.assert_is_compatible_with(output.shape)\n\n    ValueError: Shapes (None, 1) and (None, 11, 32) are incompatible\n"
     ]
    }
   ],
   "source": [
    "model.fit(X_train, y_train, batch_size=batch_size, epochs=epochs, validation_split=0.1)"
   ]
  },
  {
   "cell_type": "markdown",
   "id": "ac01da66-b202-4299-800f-0da6a35747a0",
   "metadata": {},
   "source": [
    "# Model Evaluation"
   ]
  },
  {
   "cell_type": "code",
   "execution_count": 98,
   "id": "7715a956-95d1-4993-bdbf-37da11cc6fb2",
   "metadata": {},
   "outputs": [
    {
     "ename": "NameError",
     "evalue": "name 'x_test' is not defined",
     "output_type": "error",
     "traceback": [
      "\u001b[0;31m---------------------------------------------------------------------------\u001b[0m",
      "\u001b[0;31mNameError\u001b[0m                                 Traceback (most recent call last)",
      "Cell \u001b[0;32mIn[98], line 1\u001b[0m\n\u001b[0;32m----> 1\u001b[0m score \u001b[38;5;241m=\u001b[39m model\u001b[38;5;241m.\u001b[39mevaluate(\u001b[43mx_test\u001b[49m, y_test, verbose\u001b[38;5;241m=\u001b[39m\u001b[38;5;241m0\u001b[39m)\n\u001b[1;32m      2\u001b[0m \u001b[38;5;28mprint\u001b[39m(\u001b[38;5;124m\"\u001b[39m\u001b[38;5;124mTest loss:\u001b[39m\u001b[38;5;124m\"\u001b[39m, score[\u001b[38;5;241m0\u001b[39m])\n\u001b[1;32m      3\u001b[0m \u001b[38;5;28mprint\u001b[39m(\u001b[38;5;124m\"\u001b[39m\u001b[38;5;124mTest accuracy:\u001b[39m\u001b[38;5;124m\"\u001b[39m, score[\u001b[38;5;241m1\u001b[39m])\n",
      "\u001b[0;31mNameError\u001b[0m: name 'x_test' is not defined"
     ]
    }
   ],
   "source": [
    "score = model.evaluate(x_test, y_test, verbose=0)\n",
    "print(\"Test loss:\", score[0])\n",
    "print(\"Test accuracy:\", score[1])"
   ]
  },
  {
   "cell_type": "code",
   "execution_count": null,
   "id": "9c774b9c",
   "metadata": {},
   "outputs": [],
   "source": []
  }
 ],
 "metadata": {
  "kernelspec": {
   "display_name": "Python 3 (ipykernel)",
   "language": "python",
   "name": "python3"
  },
  "language_info": {
   "codemirror_mode": {
    "name": "ipython",
    "version": 3
   },
   "file_extension": ".py",
   "mimetype": "text/x-python",
   "name": "python",
   "nbconvert_exporter": "python",
   "pygments_lexer": "ipython3",
   "version": "3.10.6"
  }
 },
 "nbformat": 4,
 "nbformat_minor": 5
}
