{
 "cells": [
  {
   "cell_type": "code",
   "execution_count": null,
   "id": "a39cdb30-62a0-41ce-91ee-7ca048c7cc1a",
   "metadata": {},
   "outputs": [],
   "source": []
  },
  {
   "cell_type": "code",
   "execution_count": null,
   "id": "bdf8dc55-b08b-4d6e-873d-ebab85abe1d1",
   "metadata": {},
   "outputs": [],
   "source": [
    "%pip install keras"
   ]
  },
  {
   "cell_type": "code",
   "execution_count": null,
   "id": "ee9110d1-6d2c-4fef-80e2-dea591524536",
   "metadata": {},
   "outputs": [],
   "source": [
    "%pip install wfdb"
   ]
  },
  {
   "cell_type": "code",
   "execution_count": null,
   "id": "64df1fbf-a915-4fce-bee5-7d818fc7f1ab",
   "metadata": {},
   "outputs": [],
   "source": [
    "import os\n",
    "from tensorflow import keras\n",
    "import wfdb"
   ]
  },
  {
   "cell_type": "markdown",
   "id": "34894de1-4196-4a52-8a62-68aa1614057a",
   "metadata": {},
   "source": [
    "1. Data Collection:\n",
    "·Datasets Used:\n",
    "·CHF-RR Dataset: Congestive heart failure RR interval database. It comprised patients with heart failure. This dataset contained records of 29 patients from CHF201 to CHF229.\n",
    "·NSR-RR Dataset: Normal sinus rhythm RR interval database. This dataset had 54 normal sinus rhythm recordings ranging in age from 28 to 76. Records from NSR001 through NSR054 of 54 patients were available.\n",
    "·Both datasets were provided by PhysioBank.\n",
    "2. Data Preprocessing:\n",
    "·Conversion: Datasets were converted to CSV files or directly imported into Python.\n",
    "·Library Used: The wfdblibrary was employed to read, write, and process WFDB signals and annotations. The library can be accessed at wfdb library.\n",
    "·Grouping Approach: Among various grouping methods for the TSC algorithm, intervals were chosen over whole series. Data was normalized and divided into intervals of 5sec, 20sec, 40sec, 60sec, and 80sec.\n",
    "·Data Formatting: Data was formatted into univariate UCR time series.\n",
    "3. Data Augmentation:\n",
    "·Data Augmentation Strategy: To combat issues of underfitting and overfitting, data augmentation was mentioned as a strategy. However, specific augmentation techniques were not detailed in the provided information."
   ]
  },
  {
   "cell_type": "markdown",
   "id": "5f3c6f9d-d664-4645-96bb-46b494887aff",
   "metadata": {
    "jp-MarkdownHeadingCollapsed": true,
    "tags": []
   },
   "source": [
    "# Downloading Data"
   ]
  },
  {
   "cell_type": "code",
   "execution_count": null,
   "id": "a8ad0c2a-cb7f-4439-82e5-de62f0e4b629",
   "metadata": {},
   "outputs": [],
   "source": [
    "dbs = wfdb.get_dbs()\n",
    "display(dbs)"
   ]
  },
  {
   "cell_type": "code",
   "execution_count": null,
   "id": "dd253c98-fbb4-4429-a3b9-40a5a0ba51c5",
   "metadata": {},
   "outputs": [],
   "source": [
    "def download(database):\n",
    "    cwd = os.getcwd()\n",
    "    dl_dir = os.path.join(cwd, database)\n",
    "    wfdb.dl_database(database, dl_dir=dl_dir)\n",
    "    display(os.listdir(dl_dir))"
   ]
  },
  {
   "cell_type": "code",
   "execution_count": null,
   "id": "2d4d840e-cb65-4562-bde7-836c39367218",
   "metadata": {},
   "outputs": [],
   "source": [
    "download('nsr2db')"
   ]
  },
  {
   "cell_type": "code",
   "execution_count": null,
   "id": "6cb46f35-002f-4cd5-8107-d285432a0b48",
   "metadata": {},
   "outputs": [],
   "source": [
    "download('chf2db')"
   ]
  },
  {
   "cell_type": "markdown",
   "id": "322fa21b-22be-45c8-8423-04c02630f824",
   "metadata": {},
   "source": [
    "# Converting Data"
   ]
  },
  {
   "cell_type": "code",
   "execution_count": null,
   "id": "f4847040-24c8-458c-b305-11d04c638b9e",
   "metadata": {},
   "outputs": [],
   "source": [
    "#TODO: Convert from wfdb to dataframe"
   ]
  },
  {
   "cell_type": "markdown",
   "id": "8c9c2219-e156-437f-93ab-d7f9a0a41004",
   "metadata": {},
   "source": [
    "# Split Data"
   ]
  },
  {
   "cell_type": "markdown",
   "id": "5c47bc2d-9554-46b3-ae53-86d1c4e82701",
   "metadata": {
    "tags": []
   },
   "source": [
    "# Model"
   ]
  },
  {
   "cell_type": "code",
   "execution_count": null,
   "id": "88837b50-5161-4129-ac4d-06c87d1d8a91",
   "metadata": {},
   "outputs": [],
   "source": [
    "The first convolutional layer will consist of 20 filters, followed by a max-pooling layer of length 2.\n",
    " \n",
    "The second convolutional layer will have 80 filters with a max-pooling layer of length 4.\n",
    " \n",
    "There will be 32 neurons used in the fully connected convolution layers to feed into the softmax classification layer."
   ]
  },
  {
   "cell_type": "code",
   "execution_count": null,
   "id": "9c822dab-7fe5-439f-8f51-e404d7aa3294",
   "metadata": {},
   "outputs": [],
   "source": [
    "#TODO: Finish model implimentation\n",
    "model = keras.Sequential(\n",
    "    [\n",
    "        keras.Input(shape=input_shape),\n",
    "        tf.keras.layers.Conv1D(\n",
    "            20,\n",
    "            kernel_size,\n",
    "            strides=1,\n",
    "            padding=\"valid\",\n",
    "            data_format=\"channels_last\",\n",
    "            dilation_rate=1,\n",
    "            groups=1,\n",
    "            activation=None,\n",
    "            use_bias=True,\n",
    "            kernel_initializer=\"glorot_uniform\",\n",
    "            bias_initializer=\"zeros\",\n",
    "            kernel_regularizer=None,\n",
    "            bias_regularizer=None,\n",
    "            activity_regularizer=None,\n",
    "            kernel_constraint=None,\n",
    "            bias_constraint=None,\n",
    "            **kwargs),\n",
    "        tf.keras.layers.MaxPooling1D(\n",
    "            pool_size=2, \n",
    "            strides=None, \n",
    "            padding=\"valid\", \n",
    "            data_format=\"channels_last\", \n",
    "            **kwargs),\n",
    "        tf.keras.layers.Conv1D(\n",
    "            80,\n",
    "            kernel_size,\n",
    "            strides=1,\n",
    "            padding=\"valid\",\n",
    "            data_format=\"channels_last\",\n",
    "            dilation_rate=1,\n",
    "            groups=1,\n",
    "            activation=None,\n",
    "            use_bias=True,\n",
    "            kernel_initializer=\"glorot_uniform\",\n",
    "            bias_initializer=\"zeros\",\n",
    "            kernel_regularizer=None,\n",
    "            bias_regularizer=None,\n",
    "            activity_regularizer=None,\n",
    "            kernel_constraint=None,\n",
    "            bias_constraint=None,\n",
    "            **kwargs),\n",
    "        tf.keras.layers.MaxPooling1D(\n",
    "            pool_size=4, \n",
    "            strides=None, \n",
    "            padding=\"valid\", \n",
    "            data_format=\"channels_last\", \n",
    "            **kwargs),\n",
    "        tf.keras.layers.Dense(\n",
    "            units,\n",
    "            activation=None,\n",
    "            use_bias=True,\n",
    "            kernel_initializer=\"glorot_uniform\",\n",
    "            bias_initializer=\"zeros\",\n",
    "            kernel_regularizer=None,\n",
    "            bias_regularizer=None,\n",
    "            activity_regularizer=None,\n",
    "            kernel_constraint=None,\n",
    "            bias_constraint=None,\n",
    "            **kwargs),\n",
    "        tf.keras.layers.Softmax(axis=-1, **kwargs),\n",
    "    ]\n",
    ")"
   ]
  },
  {
   "cell_type": "code",
   "execution_count": null,
   "id": "38f1f7f1-5a1e-429f-b91c-f4265dd7f29b",
   "metadata": {},
   "outputs": [],
   "source": [
    "model.summary()"
   ]
  },
  {
   "cell_type": "markdown",
   "id": "73e19784-1e8d-46bf-a270-1b14ca2f158a",
   "metadata": {},
   "source": [
    "# Model Training"
   ]
  },
  {
   "cell_type": "code",
   "execution_count": null,
   "id": "0ef87dbd-e70f-469d-83ce-ef7273a3650f",
   "metadata": {},
   "outputs": [],
   "source": [
    "batch_size = 128\n",
    "epochs = 15\n",
    "\n",
    "model.compile(loss=\"categorical_crossentropy\", optimizer=\"adam\", metrics=[\"accuracy\"])\n",
    "\n",
    "model.fit(x_train, y_train, batch_size=batch_size, epochs=epochs, validation_split=0.1)\n"
   ]
  },
  {
   "cell_type": "markdown",
   "id": "ac01da66-b202-4299-800f-0da6a35747a0",
   "metadata": {},
   "source": [
    "# Model Evaluation"
   ]
  },
  {
   "cell_type": "code",
   "execution_count": null,
   "id": "7715a956-95d1-4993-bdbf-37da11cc6fb2",
   "metadata": {},
   "outputs": [],
   "source": [
    "score = model.evaluate(x_test, y_test, verbose=0)\n",
    "print(\"Test loss:\", score[0])\n",
    "print(\"Test accuracy:\", score[1])"
   ]
  }
 ],
 "metadata": {
  "kernelspec": {
   "display_name": "Python 3 (ipykernel)",
   "language": "python",
   "name": "python3"
  },
  "language_info": {
   "codemirror_mode": {
    "name": "ipython",
    "version": 3
   },
   "file_extension": ".py",
   "mimetype": "text/x-python",
   "name": "python",
   "nbconvert_exporter": "python",
   "pygments_lexer": "ipython3",
   "version": "3.7.13"
  }
 },
 "nbformat": 4,
 "nbformat_minor": 5
}
